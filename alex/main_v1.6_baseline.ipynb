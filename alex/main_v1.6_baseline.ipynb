{
 "cells": [
  {
   "cell_type": "code",
   "execution_count": 9,
   "metadata": {},
   "outputs": [],
   "source": [
    "import numpy as np\n",
    "import pandas as pd\n",
    "import lightgbm as lgb"
   ]
  },
  {
   "cell_type": "code",
   "execution_count": 10,
   "metadata": {},
   "outputs": [],
   "source": [
    "from sklearn.metrics import roc_auc_score\n",
    "from sklearn.model_selection import StratifiedKFold"
   ]
  },
  {
   "cell_type": "code",
   "execution_count": 11,
   "metadata": {},
   "outputs": [],
   "source": [
    "import matplotlib.pyplot as plt\n",
    "import seaborn as sns"
   ]
  },
  {
   "cell_type": "code",
   "execution_count": 12,
   "metadata": {},
   "outputs": [],
   "source": [
    "import os"
   ]
  },
  {
   "cell_type": "markdown",
   "metadata": {},
   "source": [
    "### load data"
   ]
  },
  {
   "cell_type": "code",
   "execution_count": 69,
   "metadata": {},
   "outputs": [],
   "source": [
    "main_folder = r\"C:\\Users\\Alexandre Boulenger\\santransakt_main\"\n",
    "data_folder = os.path.join(main_folder, 'data')"
   ]
  },
  {
   "cell_type": "code",
   "execution_count": 14,
   "metadata": {},
   "outputs": [],
   "source": [
    "train = pd.read_csv(os.path.join(data_folder,\"train.csv\"))\n",
    "test = pd.read_csv(os.path.join(data_folder,\"test.csv\"))"
   ]
  },
  {
   "cell_type": "markdown",
   "metadata": {},
   "source": [
    "### prep data"
   ]
  },
  {
   "cell_type": "code",
   "execution_count": 15,
   "metadata": {},
   "outputs": [],
   "source": [
    "test['target'] = np.nan\n",
    "cols = test.columns[:-1].tolist()\n",
    "cols = [cols[0], 'target']+cols[1:]\n",
    "test = test.loc[:,cols]"
   ]
  },
  {
   "cell_type": "code",
   "execution_count": 16,
   "metadata": {},
   "outputs": [
    {
     "data": {
      "text/plain": [
       "test     200000\n",
       "train    200000\n",
       "Name: set, dtype: int64"
      ]
     },
     "execution_count": 16,
     "metadata": {},
     "output_type": "execute_result"
    }
   ],
   "source": [
    "traintest = pd.concat([train, test])\n",
    "traintest.reset_index(drop=True, inplace=True)\n",
    "traintest['set'] = 'test'\n",
    "traintest.loc[train.index,'set'] = 'train'\n",
    "traintest.set.value_counts()"
   ]
  },
  {
   "cell_type": "code",
   "execution_count": 17,
   "metadata": {},
   "outputs": [],
   "source": [
    "X_tr = train.drop(columns=['target', 'ID_code']).copy()\n",
    "X_te = test.drop(columns=['target', 'ID_code']).copy()\n",
    "X = traintest.drop(columns=['target', 'ID_code']).copy()"
   ]
  },
  {
   "cell_type": "code",
   "execution_count": 18,
   "metadata": {},
   "outputs": [],
   "source": [
    "y_tr = train.target.copy()\n",
    "y_te = test.target.copy()\n",
    "y = traintest.target.copy()"
   ]
  },
  {
   "cell_type": "markdown",
   "metadata": {},
   "source": [
    "### select part of the training data for a less greedy exploration"
   ]
  },
  {
   "cell_type": "code",
   "execution_count": 19,
   "metadata": {},
   "outputs": [],
   "source": [
    "from sklearn.model_selection import train_test_split"
   ]
  },
  {
   "cell_type": "code",
   "execution_count": 20,
   "metadata": {},
   "outputs": [],
   "source": [
    "#X_tr, X_tr_2, y_tr, y_tr_2 = train_test_split(X_tr, y_tr, test_size=0.9, random_state=42)\n",
    "#X_te, X_tr_2, y_te, y_tr_2 = train_test_split(X_tr_2, y_tr_2, test_size=0.9, random_state=42)"
   ]
  },
  {
   "cell_type": "code",
   "execution_count": 21,
   "metadata": {},
   "outputs": [],
   "source": [
    "#X_tr, X_te, y_tr, y_te = train_test_split(X_tr, y_tr, test_size=0.1, random_state=42)"
   ]
  },
  {
   "cell_type": "markdown",
   "metadata": {},
   "source": [
    "### train GBM model"
   ]
  },
  {
   "cell_type": "code",
   "execution_count": 22,
   "metadata": {},
   "outputs": [],
   "source": [
    "folds = StratifiedKFold(n_splits=12, shuffle=False, random_state=10)"
   ]
  },
  {
   "cell_type": "code",
   "execution_count": 23,
   "metadata": {},
   "outputs": [],
   "source": [
    "oof = np.zeros(len(X_tr))\n",
    "y_te_pred = np.zeros(len(X_te))"
   ]
  },
  {
   "cell_type": "markdown",
   "metadata": {},
   "source": [
    "#### create model"
   ]
  },
  {
   "cell_type": "code",
   "execution_count": 24,
   "metadata": {},
   "outputs": [],
   "source": [
    "param = {\n",
    "    'bagging_freq': 5,          \n",
    "    'bagging_fraction': 0.38,   'boost_from_average':'false',   \n",
    "    'boost': 'gbdt',             'feature_fraction': 0.04,     'learning_rate': 0.0085,\n",
    "    'max_depth': -1,             'metric':'auc',                'min_data_in_leaf': 80,     'min_sum_hessian_in_leaf': 10.0,\n",
    "    'num_leaves': 13,            'num_threads': 8,              'tree_learner': 'serial',   'objective': 'binary',\n",
    "    'reg_alpha': 0.1302650970728192, 'reg_lambda': 0.3603427518866501,'verbosity': 1\n",
    "}"
   ]
  },
  {
   "cell_type": "markdown",
   "metadata": {},
   "source": [
    "#### perform cross-validation"
   ]
  },
  {
   "cell_type": "code",
   "execution_count": 25,
   "metadata": {
    "scrolled": true
   },
   "outputs": [
    {
     "name": "stdout",
     "output_type": "stream",
     "text": [
      "Fold 0\n",
      "Training until validation scores don't improve for 2000 rounds.\n",
      "[5000]\ttraining's auc: 0.925151\tvalid_1's auc: 0.898164\n",
      "[10000]\ttraining's auc: 0.940839\tvalid_1's auc: 0.901261\n",
      "Early stopping, best iteration is:\n",
      "[10313]\ttraining's auc: 0.941697\tvalid_1's auc: 0.901416\n",
      "Fold 1\n",
      "Training until validation scores don't improve for 2000 rounds.\n",
      "[5000]\ttraining's auc: 0.925388\tvalid_1's auc: 0.897582\n",
      "[10000]\ttraining's auc: 0.941018\tvalid_1's auc: 0.899296\n",
      "[15000]\ttraining's auc: 0.953868\tvalid_1's auc: 0.899497\n",
      "Early stopping, best iteration is:\n",
      "[13782]\ttraining's auc: 0.950925\tvalid_1's auc: 0.899681\n",
      "Fold 2\n",
      "Training until validation scores don't improve for 2000 rounds.\n",
      "[5000]\ttraining's auc: 0.925878\tvalid_1's auc: 0.889935\n",
      "[10000]\ttraining's auc: 0.941418\tvalid_1's auc: 0.892076\n",
      "Early stopping, best iteration is:\n",
      "[11513]\ttraining's auc: 0.945485\tvalid_1's auc: 0.892175\n",
      "Fold 3\n",
      "Training until validation scores don't improve for 2000 rounds.\n",
      "[5000]\ttraining's auc: 0.924659\tvalid_1's auc: 0.904102\n",
      "[10000]\ttraining's auc: 0.940607\tvalid_1's auc: 0.905769\n",
      "Early stopping, best iteration is:\n",
      "[10923]\ttraining's auc: 0.943171\tvalid_1's auc: 0.905987\n",
      "Fold 4\n",
      "Training until validation scores don't improve for 2000 rounds.\n",
      "[5000]\ttraining's auc: 0.925614\tvalid_1's auc: 0.891877\n",
      "[10000]\ttraining's auc: 0.941327\tvalid_1's auc: 0.893826\n",
      "Early stopping, best iteration is:\n",
      "[10605]\ttraining's auc: 0.943012\tvalid_1's auc: 0.893983\n",
      "Fold 5\n",
      "Training until validation scores don't improve for 2000 rounds.\n",
      "[5000]\ttraining's auc: 0.925178\tvalid_1's auc: 0.898885\n",
      "[10000]\ttraining's auc: 0.940922\tvalid_1's auc: 0.900185\n",
      "Early stopping, best iteration is:\n",
      "[9350]\ttraining's auc: 0.939083\tvalid_1's auc: 0.900302\n",
      "Fold 6\n",
      "Training until validation scores don't improve for 2000 rounds.\n",
      "[5000]\ttraining's auc: 0.925004\tvalid_1's auc: 0.899852\n",
      "[10000]\ttraining's auc: 0.940738\tvalid_1's auc: 0.901646\n",
      "Early stopping, best iteration is:\n",
      "[12882]\ttraining's auc: 0.948373\tvalid_1's auc: 0.90194\n",
      "Fold 7\n",
      "Training until validation scores don't improve for 2000 rounds.\n",
      "[5000]\ttraining's auc: 0.924914\tvalid_1's auc: 0.902972\n",
      "[10000]\ttraining's auc: 0.940771\tvalid_1's auc: 0.903942\n",
      "Early stopping, best iteration is:\n",
      "[9521]\ttraining's auc: 0.939434\tvalid_1's auc: 0.904041\n",
      "Fold 8\n",
      "Training until validation scores don't improve for 2000 rounds.\n",
      "[5000]\ttraining's auc: 0.925311\tvalid_1's auc: 0.895958\n",
      "[10000]\ttraining's auc: 0.940975\tvalid_1's auc: 0.898577\n",
      "Early stopping, best iteration is:\n",
      "[9921]\ttraining's auc: 0.940758\tvalid_1's auc: 0.898601\n",
      "Fold 9\n",
      "Training until validation scores don't improve for 2000 rounds.\n",
      "[5000]\ttraining's auc: 0.924939\tvalid_1's auc: 0.902262\n",
      "[10000]\ttraining's auc: 0.940664\tvalid_1's auc: 0.904108\n",
      "Early stopping, best iteration is:\n",
      "[9434]\ttraining's auc: 0.939099\tvalid_1's auc: 0.904243\n",
      "Fold 10\n",
      "Training until validation scores don't improve for 2000 rounds.\n",
      "[5000]\ttraining's auc: 0.924827\tvalid_1's auc: 0.9049\n",
      "[10000]\ttraining's auc: 0.940561\tvalid_1's auc: 0.907107\n",
      "Early stopping, best iteration is:\n",
      "[10575]\ttraining's auc: 0.942145\tvalid_1's auc: 0.907266\n",
      "Fold 11\n",
      "Training until validation scores don't improve for 2000 rounds.\n",
      "[5000]\ttraining's auc: 0.925507\tvalid_1's auc: 0.897642\n",
      "[10000]\ttraining's auc: 0.941211\tvalid_1's auc: 0.899253\n",
      "Early stopping, best iteration is:\n",
      "[11925]\ttraining's auc: 0.946349\tvalid_1's auc: 0.899353\n",
      "Wall time: 1h 56min 34s\n"
     ]
    }
   ],
   "source": [
    "%%time\n",
    "for fold_, (trn_idx, val_idx) in enumerate(folds.split(X_tr.values, y_tr.values)):\n",
    "    \n",
    "    print(\"Fold {}\".format(fold_))\n",
    "    \n",
    "    # set train and validation data\n",
    "    trn_data = lgb.Dataset(\n",
    "        X_tr.iloc[trn_idx]\n",
    "        ,label=y_tr.iloc[trn_idx]\n",
    "    )\n",
    "    val_data = lgb.Dataset(\n",
    "        X_tr.iloc[val_idx]\n",
    "        ,label=y_tr.iloc[val_idx]\n",
    "    )\n",
    "    \n",
    "    # train model\n",
    "    clf = lgb.train(\n",
    "        param\n",
    "        ,trn_data\n",
    "        ,1000000\n",
    "        ,valid_sets = [trn_data, val_data]\n",
    "        ,verbose_eval=5000\n",
    "        ,early_stopping_rounds = 2000\n",
    "    )\n",
    "    \n",
    "    # record predictions\n",
    "    oof[val_idx] = clf.predict(X_tr.iloc[val_idx], num_iteration=clf.best_iteration)\n",
    "    y_te_pred += clf.predict(X_te, num_iteration=clf.best_iteration) / folds.n_splits"
   ]
  },
  {
   "cell_type": "markdown",
   "metadata": {},
   "source": [
    "#### estimate test score from cross-validated score"
   ]
  },
  {
   "cell_type": "code",
   "execution_count": 36,
   "metadata": {},
   "outputs": [
    {
     "name": "stdout",
     "output_type": "stream",
     "text": [
      "CV score: 0.90062 \n"
     ]
    }
   ],
   "source": [
    "print(\"CV score: {:<8.5f}\".format(roc_auc_score(y_tr, oof)))\n",
    "sub = pd.DataFrame({\"ID_code\": test.ID_code.values})\n",
    "sub[\"target\"] = y_te_pred"
   ]
  },
  {
   "cell_type": "markdown",
   "metadata": {},
   "source": [
    "#### save predictions"
   ]
  },
  {
   "cell_type": "code",
   "execution_count": 58,
   "metadata": {},
   "outputs": [],
   "source": [
    "from datetime import datetime\n",
    "date_today = datetime.now().strftime(\"%Y%m%d\")"
   ]
  },
  {
   "cell_type": "code",
   "execution_count": 55,
   "metadata": {},
   "outputs": [],
   "source": [
    "sub.to_csv(os.path.join(data_folder,\"submission_{}.csv\".format(name, date_today)), index=False)"
   ]
  },
  {
   "cell_type": "markdown",
   "metadata": {},
   "source": [
    "#### save trained model"
   ]
  },
  {
   "cell_type": "code",
   "execution_count": 57,
   "metadata": {},
   "outputs": [],
   "source": [
    "json_model = clf.dump_model()"
   ]
  },
  {
   "cell_type": "code",
   "execution_count": 61,
   "metadata": {},
   "outputs": [],
   "source": [
    "import json\n",
    "with open(os.path.join(data_folder,'model_gbm_{}.json'.format(name, date_today)), 'w+') as f:\n",
    "    json.dump(json_model, f, indent=4)"
   ]
  },
  {
   "cell_type": "code",
   "execution_count": null,
   "metadata": {},
   "outputs": [],
   "source": [
    "# https://www.kaggle.com/jesucristo/30-lines-starter-solution-fast\n",
    "# https://lightgbm.readthedocs.io/en/latest/Python-Intro.html"
   ]
  }
 ],
 "metadata": {
  "kernelspec": {
   "display_name": "Python 3",
   "language": "python",
   "name": "python3"
  },
  "language_info": {
   "codemirror_mode": {
    "name": "ipython",
    "version": 3
   },
   "file_extension": ".py",
   "mimetype": "text/x-python",
   "name": "python",
   "nbconvert_exporter": "python",
   "pygments_lexer": "ipython3",
   "version": "3.6.6"
  }
 },
 "nbformat": 4,
 "nbformat_minor": 2
}
