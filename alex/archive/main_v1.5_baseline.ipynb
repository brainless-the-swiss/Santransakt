{
 "cells": [
  {
   "cell_type": "code",
   "execution_count": 3,
   "metadata": {},
   "outputs": [],
   "source": [
    "import numpy as np\n",
    "import pandas as pd\n",
    "import lightgbm as lgb"
   ]
  },
  {
   "cell_type": "code",
   "execution_count": 4,
   "metadata": {},
   "outputs": [],
   "source": [
    "from sklearn.metrics import roc_auc_score\n",
    "from sklearn.model_selection import StratifiedKFold"
   ]
  },
  {
   "cell_type": "code",
   "execution_count": 5,
   "metadata": {},
   "outputs": [],
   "source": [
    "import matplotlib.pyplot as plt\n",
    "import seaborn as sns"
   ]
  },
  {
   "cell_type": "code",
   "execution_count": 6,
   "metadata": {},
   "outputs": [],
   "source": [
    "import os"
   ]
  },
  {
   "cell_type": "markdown",
   "metadata": {},
   "source": [
    "### load data"
   ]
  },
  {
   "cell_type": "code",
   "execution_count": 7,
   "metadata": {},
   "outputs": [],
   "source": [
    "main_folder = r\"C:\\Users\\Alexandre Boulenger\\santransakt_main\"\n",
    "data_folder = os.path.join(main_folder, 'data')"
   ]
  },
  {
   "cell_type": "code",
   "execution_count": 8,
   "metadata": {},
   "outputs": [],
   "source": [
    "train = pd.read_csv(os.path.join(data_folder,\"train.csv\"))\n",
    "test = pd.read_csv(os.path.join(data_folder,\"test.csv\"))"
   ]
  },
  {
   "cell_type": "markdown",
   "metadata": {},
   "source": [
    "### prep data"
   ]
  },
  {
   "cell_type": "code",
   "execution_count": 9,
   "metadata": {},
   "outputs": [],
   "source": [
    "test['target'] = np.nan\n",
    "cols = test.columns[:-1].tolist()\n",
    "cols = [cols[0], 'target']+cols[1:]\n",
    "test = test.loc[:,cols]"
   ]
  },
  {
   "cell_type": "code",
   "execution_count": 10,
   "metadata": {},
   "outputs": [
    {
     "data": {
      "text/plain": [
       "test     200000\n",
       "train    200000\n",
       "Name: set, dtype: int64"
      ]
     },
     "execution_count": 10,
     "metadata": {},
     "output_type": "execute_result"
    }
   ],
   "source": [
    "traintest = pd.concat([train, test])\n",
    "traintest.reset_index(drop=True, inplace=True)\n",
    "traintest['set'] = 'test'\n",
    "traintest.loc[train.index,'set'] = 'train'\n",
    "traintest.set.value_counts()"
   ]
  },
  {
   "cell_type": "code",
   "execution_count": 42,
   "metadata": {},
   "outputs": [],
   "source": [
    "X_tr = train.drop(columns=['target', 'ID_code']).copy()\n",
    "X_te = test.drop(columns=['target', 'ID_code']).copy()\n",
    "X = traintest.drop(columns=['target', 'ID_code']).copy()"
   ]
  },
  {
   "cell_type": "code",
   "execution_count": 43,
   "metadata": {},
   "outputs": [],
   "source": [
    "y_tr = train.target.copy()\n",
    "y_te = test.target.copy()\n",
    "y = traintest.target.copy()"
   ]
  },
  {
   "cell_type": "markdown",
   "metadata": {},
   "source": [
    "### select part of the training data for a less greedy exploration"
   ]
  },
  {
   "cell_type": "code",
   "execution_count": 32,
   "metadata": {},
   "outputs": [],
   "source": [
    "from sklearn.model_selection import train_test_split"
   ]
  },
  {
   "cell_type": "code",
   "execution_count": 33,
   "metadata": {},
   "outputs": [],
   "source": [
    "#X_tr, X_tr_2, y_tr, y_tr_2 = train_test_split(X_tr, y_tr, test_size=0.9, random_state=42)\n",
    "#X_te, X_tr_2, y_te, y_tr_2 = train_test_split(X_tr_2, y_tr_2, test_size=0.9, random_state=42)"
   ]
  },
  {
   "cell_type": "code",
   "execution_count": 44,
   "metadata": {},
   "outputs": [],
   "source": [
    "X_tr, X_te, y_tr, y_te = train_test_split(X_tr, y_tr, test_size=0.1, random_state=42)"
   ]
  },
  {
   "cell_type": "markdown",
   "metadata": {},
   "source": [
    "### train GBM model"
   ]
  },
  {
   "cell_type": "code",
   "execution_count": 45,
   "metadata": {},
   "outputs": [],
   "source": [
    "folds = StratifiedKFold(n_splits=12, shuffle=False, random_state=10)"
   ]
  },
  {
   "cell_type": "code",
   "execution_count": 46,
   "metadata": {},
   "outputs": [],
   "source": [
    "oof = np.zeros(len(X_tr))\n",
    "y_te_pred = np.zeros(len(X_te))"
   ]
  },
  {
   "cell_type": "markdown",
   "metadata": {},
   "source": [
    "#### create model"
   ]
  },
  {
   "cell_type": "code",
   "execution_count": 47,
   "metadata": {},
   "outputs": [],
   "source": [
    "param = {\n",
    "    'bagging_freq': 5,          \n",
    "    'bagging_fraction': 0.38,   'boost_from_average':'false',   \n",
    "    'boost': 'gbdt',             'feature_fraction': 0.04,     'learning_rate': 0.0085,\n",
    "    'max_depth': -1,             'metric':'auc',                'min_data_in_leaf': 80,     'min_sum_hessian_in_leaf': 10.0,\n",
    "    'num_leaves': 13,            'num_threads': 8,              'tree_learner': 'serial',   'objective': 'binary',\n",
    "    'reg_alpha': 0.1302650970728192, 'reg_lambda': 0.3603427518866501,'verbosity': 1\n",
    "}"
   ]
  },
  {
   "cell_type": "markdown",
   "metadata": {},
   "source": [
    "#### perform cross-validation"
   ]
  },
  {
   "cell_type": "code",
   "execution_count": 48,
   "metadata": {},
   "outputs": [
    {
     "name": "stdout",
     "output_type": "stream",
     "text": [
      "Fold 0\n",
      "Training until validation scores don't improve for 2000 rounds.\n",
      "[5000]\ttraining's auc: 0.927855\tvalid_1's auc: 0.894857\n",
      "[10000]\ttraining's auc: 0.944527\tvalid_1's auc: 0.896006\n",
      "Early stopping, best iteration is:\n",
      "[10490]\ttraining's auc: 0.945961\tvalid_1's auc: 0.896166\n",
      "Fold 1\n",
      "Training until validation scores don't improve for 2000 rounds.\n",
      "[5000]\ttraining's auc: 0.927771\tvalid_1's auc: 0.893617\n",
      "[10000]\ttraining's auc: 0.944402\tvalid_1's auc: 0.896037\n",
      "[15000]\ttraining's auc: 0.957891\tvalid_1's auc: 0.896251\n",
      "Early stopping, best iteration is:\n",
      "[14383]\ttraining's auc: 0.956349\tvalid_1's auc: 0.896404\n",
      "Fold 2\n",
      "Training until validation scores don't improve for 2000 rounds.\n",
      "[5000]\ttraining's auc: 0.927447\tvalid_1's auc: 0.899639\n",
      "[10000]\ttraining's auc: 0.944143\tvalid_1's auc: 0.902454\n",
      "[15000]\ttraining's auc: 0.957573\tvalid_1's auc: 0.902792\n",
      "Early stopping, best iteration is:\n",
      "[14281]\ttraining's auc: 0.95581\tvalid_1's auc: 0.902919\n",
      "Fold 3\n",
      "Training until validation scores don't improve for 2000 rounds.\n",
      "[5000]\ttraining's auc: 0.927173\tvalid_1's auc: 0.908029\n",
      "[10000]\ttraining's auc: 0.943981\tvalid_1's auc: 0.909353\n",
      "Early stopping, best iteration is:\n",
      "[10087]\ttraining's auc: 0.944219\tvalid_1's auc: 0.909401\n",
      "Fold 4\n",
      "Training until validation scores don't improve for 2000 rounds.\n",
      "[5000]\ttraining's auc: 0.927848\tvalid_1's auc: 0.894274\n",
      "[10000]\ttraining's auc: 0.944702\tvalid_1's auc: 0.894866\n",
      "Early stopping, best iteration is:\n",
      "[10465]\ttraining's auc: 0.946031\tvalid_1's auc: 0.89504\n",
      "Fold 5\n",
      "Training until validation scores don't improve for 2000 rounds.\n",
      "[5000]\ttraining's auc: 0.927463\tvalid_1's auc: 0.896851\n",
      "[10000]\ttraining's auc: 0.944112\tvalid_1's auc: 0.898553\n",
      "Early stopping, best iteration is:\n",
      "[12177]\ttraining's auc: 0.950245\tvalid_1's auc: 0.898851\n",
      "Fold 6\n",
      "Training until validation scores don't improve for 2000 rounds.\n",
      "[5000]\ttraining's auc: 0.927736\tvalid_1's auc: 0.893149\n",
      "Early stopping, best iteration is:\n",
      "[6533]\ttraining's auc: 0.933455\tvalid_1's auc: 0.894242\n",
      "Fold 7\n",
      "Training until validation scores don't improve for 2000 rounds.\n",
      "[5000]\ttraining's auc: 0.927869\tvalid_1's auc: 0.89457\n",
      "[10000]\ttraining's auc: 0.944477\tvalid_1's auc: 0.8961\n",
      "Early stopping, best iteration is:\n",
      "[8923]\ttraining's auc: 0.941229\tvalid_1's auc: 0.896265\n",
      "Fold 8\n",
      "Training until validation scores don't improve for 2000 rounds.\n",
      "[5000]\ttraining's auc: 0.927368\tvalid_1's auc: 0.899677\n",
      "[10000]\ttraining's auc: 0.944076\tvalid_1's auc: 0.901658\n",
      "Early stopping, best iteration is:\n",
      "[12284]\ttraining's auc: 0.950558\tvalid_1's auc: 0.901851\n",
      "Fold 9\n",
      "Training until validation scores don't improve for 2000 rounds.\n",
      "[5000]\ttraining's auc: 0.927478\tvalid_1's auc: 0.896936\n",
      "[10000]\ttraining's auc: 0.944275\tvalid_1's auc: 0.898947\n",
      "Early stopping, best iteration is:\n",
      "[9530]\ttraining's auc: 0.942841\tvalid_1's auc: 0.899068\n",
      "Fold 10\n",
      "Training until validation scores don't improve for 2000 rounds.\n",
      "[5000]\ttraining's auc: 0.927469\tvalid_1's auc: 0.899966\n",
      "[10000]\ttraining's auc: 0.944108\tvalid_1's auc: 0.902244\n",
      "Early stopping, best iteration is:\n",
      "[11525]\ttraining's auc: 0.948471\tvalid_1's auc: 0.902552\n",
      "Fold 11\n",
      "Training until validation scores don't improve for 2000 rounds.\n",
      "[5000]\ttraining's auc: 0.927111\tvalid_1's auc: 0.906713\n",
      "[10000]\ttraining's auc: 0.943826\tvalid_1's auc: 0.908049\n",
      "Early stopping, best iteration is:\n",
      "[8755]\ttraining's auc: 0.940011\tvalid_1's auc: 0.908165\n",
      "Wall time: 1h 8min 7s\n"
     ]
    }
   ],
   "source": [
    "%%time\n",
    "for fold_, (trn_idx, val_idx) in enumerate(folds.split(X_tr.values, y_tr.values)):\n",
    "    \n",
    "    print(\"Fold {}\".format(fold_))\n",
    "    \n",
    "    # set train and validation data\n",
    "    trn_data = lgb.Dataset(\n",
    "        X_tr.iloc[trn_idx]\n",
    "        ,label=y_tr.iloc[trn_idx]\n",
    "    )\n",
    "    val_data = lgb.Dataset(\n",
    "        X_tr.iloc[val_idx]\n",
    "        ,label=y_tr.iloc[val_idx]\n",
    "    )\n",
    "    \n",
    "    # train model\n",
    "    clf = lgb.train(\n",
    "        param\n",
    "        ,trn_data\n",
    "        ,1000000\n",
    "        ,valid_sets = [trn_data, val_data]\n",
    "        ,verbose_eval=5000\n",
    "        ,early_stopping_rounds = 2000\n",
    "    )\n",
    "    \n",
    "    # record predictions\n",
    "    oof[val_idx] = clf.predict(X_tr.iloc[val_idx], num_iteration=clf.best_iteration)\n",
    "    y_te_pred += clf.predict(X_te, num_iteration=clf.best_iteration) / folds.n_splits"
   ]
  },
  {
   "cell_type": "markdown",
   "metadata": {},
   "source": [
    "#### estimate test error from cross-validated validation error"
   ]
  },
  {
   "cell_type": "code",
   "execution_count": null,
   "metadata": {},
   "outputs": [],
   "source": [
    "print(\"CV score: {:<8.5f}\".format(roc_auc_score(target, oof)))\n",
    "sub = pd.DataFrame({\"ID_code\": test_df.ID_code.values})\n",
    "sub[\"target\"] = predictions\n",
    "sub.to_csv(\"submission.csv\", index=False)"
   ]
  },
  {
   "cell_type": "code",
   "execution_count": null,
   "metadata": {},
   "outputs": [],
   "source": [
    "# https://www.kaggle.com/jesucristo/30-lines-starter-solution-fast\n",
    "# https://lightgbm.readthedocs.io/en/latest/Python-Intro.html"
   ]
  },
  {
   "cell_type": "markdown",
   "metadata": {},
   "source": [
    "### train light model"
   ]
  },
  {
   "cell_type": "code",
   "execution_count": 74,
   "metadata": {},
   "outputs": [],
   "source": [
    "from sklearn.ensemble import RandomForestClassifier\n",
    "from sklearn.metrics import roc_auc_score, balanced_accuracy_score, make_scorer\n",
    "from sklearn.model_selection import cross_val_score, GridSearchCV"
   ]
  },
  {
   "cell_type": "code",
   "execution_count": 75,
   "metadata": {},
   "outputs": [],
   "source": [
    "roc_auc_weighted = make_scorer(roc_auc_score, average='weighted')"
   ]
  },
  {
   "cell_type": "markdown",
   "metadata": {},
   "source": [
    "#### create model"
   ]
  },
  {
   "cell_type": "code",
   "execution_count": 76,
   "metadata": {},
   "outputs": [],
   "source": [
    "# set default parameters\n",
    "cv = 5\n",
    "n_estimators = 100\n",
    "max_depth = 20\n",
    "max_features = np.sqrt(200)\n",
    "param_grid = {\n",
    "    'max_depth':[4,10,20]\n",
    "    ,'n_estimators':[25,100,150]\n",
    "}"
   ]
  },
  {
   "cell_type": "code",
   "execution_count": 77,
   "metadata": {},
   "outputs": [],
   "source": [
    "# instanciate model with default parameters\n",
    "clf = RandomForestClassifier(\n",
    "    n_estimators=n_estimators\n",
    "    ,max_depth=max_depth\n",
    "    #,max_features=max_features\n",
    "    ,class_weight='balanced'\n",
    "    ,random_state=0\n",
    ")"
   ]
  },
  {
   "cell_type": "markdown",
   "metadata": {},
   "source": [
    "#### hyperparameter tuning and cross-validated test error"
   ]
  },
  {
   "cell_type": "code",
   "execution_count": 78,
   "metadata": {},
   "outputs": [],
   "source": [
    "# instanciate CV object\n",
    "gscv = GridSearchCV(\n",
    "    clf\n",
    "    ,param_grid=param_grid\n",
    "    ,scoring=roc_auc_weighted\n",
    "    ,cv=cv\n",
    ")"
   ]
  },
  {
   "cell_type": "code",
   "execution_count": 80,
   "metadata": {},
   "outputs": [
    {
     "name": "stdout",
     "output_type": "stream",
     "text": [
      "Wall time: 2h 6min 8s\n"
     ]
    },
    {
     "data": {
      "text/plain": [
       "GridSearchCV(cv=5, error_score='raise-deprecating',\n",
       "       estimator=RandomForestClassifier(bootstrap=True, class_weight='balanced',\n",
       "            criterion='gini', max_depth=20, max_features='auto',\n",
       "            max_leaf_nodes=None, min_impurity_decrease=0.0,\n",
       "            min_impurity_split=None, min_samples_leaf=1,\n",
       "            min_samples_split=2, min_weight_fraction_leaf=0.0,\n",
       "            n_estimators=100, n_jobs=None, oob_score=False, random_state=0,\n",
       "            verbose=0, warm_start=False),\n",
       "       fit_params=None, iid='warn', n_jobs=None,\n",
       "       param_grid={'max_depth': [4, 10, 20], 'n_estimators': [25, 100, 150]},\n",
       "       pre_dispatch='2*n_jobs', refit=True, return_train_score='warn',\n",
       "       scoring=make_scorer(roc_auc_score, average=weighted), verbose=0)"
      ]
     },
     "execution_count": 80,
     "metadata": {},
     "output_type": "execute_result"
    }
   ],
   "source": [
    "%%time\n",
    "# run CV\n",
    "gscv.fit(X_tr, y_tr)"
   ]
  },
  {
   "cell_type": "code",
   "execution_count": 81,
   "metadata": {},
   "outputs": [
    {
     "name": "stdout",
     "output_type": "stream",
     "text": [
      "estimated test ROC AUC score: 69.63%\n",
      "best parameters: {'max_depth': 4, 'n_estimators': 150}\n"
     ]
    }
   ],
   "source": [
    "# display out-of-sample performance \n",
    "print(\"estimated test ROC AUC score: {:.2%}\".format(pred_score))\n",
    "best_params = gscv.best_params_\n",
    "print(\"best parameters: {}\".format(best_params))"
   ]
  },
  {
   "cell_type": "markdown",
   "metadata": {},
   "source": [
    "#### performance on test set"
   ]
  },
  {
   "cell_type": "code",
   "execution_count": 82,
   "metadata": {},
   "outputs": [
    {
     "name": "stdout",
     "output_type": "stream",
     "text": [
      "ROC AUC score on test set: 70.75%\n",
      "ROC AUC score on test set: 71.44%\n"
     ]
    }
   ],
   "source": [
    "y_te_pr = gscv.predict(X_te)\n",
    "print(\"ROC AUC score on test set: {:.2%}\".format(roc_auc_score(y_te, y_te_pr)))\n",
    "y_te_pr = gscv.predict(X_tr_2)\n",
    "print(\"ROC AUC score on test set: {:.2%}\".format(roc_auc_score(y_tr_2, y_te_pr)))"
   ]
  }
 ],
 "metadata": {
  "kernelspec": {
   "display_name": "Python 3",
   "language": "python",
   "name": "python3"
  },
  "language_info": {
   "codemirror_mode": {
    "name": "ipython",
    "version": 3
   },
   "file_extension": ".py",
   "mimetype": "text/x-python",
   "name": "python",
   "nbconvert_exporter": "python",
   "pygments_lexer": "ipython3",
   "version": "3.6.6"
  }
 },
 "nbformat": 4,
 "nbformat_minor": 2
}
