{
 "cells": [
  {
   "cell_type": "code",
   "execution_count": 11,
   "metadata": {},
   "outputs": [],
   "source": [
    "import pandas as pd\n",
    "import numpy as np"
   ]
  },
  {
   "cell_type": "code",
   "execution_count": 114,
   "metadata": {},
   "outputs": [],
   "source": [
    "import matplotlib.pyplot as plt\n",
    "import seaborn as sns"
   ]
  },
  {
   "cell_type": "code",
   "execution_count": 12,
   "metadata": {},
   "outputs": [],
   "source": [
    "import os"
   ]
  },
  {
   "cell_type": "markdown",
   "metadata": {},
   "source": [
    "### load data"
   ]
  },
  {
   "cell_type": "code",
   "execution_count": 13,
   "metadata": {},
   "outputs": [],
   "source": [
    "main_folder = r\"C:\\Users\\Alexandre Boulenger\\santransakt_main\"\n",
    "data_folder = os.path.join(main_folder, 'data')"
   ]
  },
  {
   "cell_type": "code",
   "execution_count": 14,
   "metadata": {},
   "outputs": [],
   "source": [
    "train = pd.read_csv(os.path.join(data_folder,\"train.csv\"))\n",
    "test = pd.read_csv(os.path.join(data_folder,\"test.csv\"))"
   ]
  },
  {
   "cell_type": "markdown",
   "metadata": {},
   "source": [
    "### prep data"
   ]
  },
  {
   "cell_type": "code",
   "execution_count": 15,
   "metadata": {},
   "outputs": [],
   "source": [
    "test['target'] = '_'#np.?\n",
    "cols = test.columns[:-1].tolist()\n",
    "cols = [cols[0], 'target']+cols[1:]\n",
    "test = test.loc[:,cols]"
   ]
  },
  {
   "cell_type": "code",
   "execution_count": 16,
   "metadata": {},
   "outputs": [
    {
     "data": {
      "text/plain": [
       "test     200000\n",
       "train    200000\n",
       "Name: set, dtype: int64"
      ]
     },
     "execution_count": 16,
     "metadata": {},
     "output_type": "execute_result"
    }
   ],
   "source": [
    "traintest = pd.concat([train, test])\n",
    "traintest.reset_index(drop=True, inplace=True)\n",
    "traintest['set'] = 'test'\n",
    "traintest.loc[train.index,'set'] = 'train'\n",
    "traintest.set.value_counts()"
   ]
  },
  {
   "cell_type": "code",
   "execution_count": 21,
   "metadata": {},
   "outputs": [],
   "source": [
    "X_tr = train.drop(columns=['target', 'ID_code']).copy()\n",
    "X_te = test.drop(columns=['target', 'ID_code']).copy()\n",
    "X = traintest.drop(columns=['target', 'ID_code']).copy()"
   ]
  },
  {
   "cell_type": "code",
   "execution_count": 26,
   "metadata": {},
   "outputs": [],
   "source": [
    "y_tr = train.target.copy()\n",
    "y = traintest.target.copy()"
   ]
  },
  {
   "cell_type": "markdown",
   "metadata": {},
   "source": [
    "### conduct EDA"
   ]
  },
  {
   "cell_type": "markdown",
   "metadata": {},
   "source": [
    "#### explore target"
   ]
  },
  {
   "cell_type": "code",
   "execution_count": 18,
   "metadata": {},
   "outputs": [],
   "source": [
    "y_tr = train.target.copy()"
   ]
  },
  {
   "cell_type": "markdown",
   "metadata": {},
   "source": [
    "classification problem:"
   ]
  },
  {
   "cell_type": "code",
   "execution_count": 19,
   "metadata": {},
   "outputs": [
    {
     "data": {
      "text/plain": [
       "array([0, 1], dtype=int64)"
      ]
     },
     "execution_count": 19,
     "metadata": {},
     "output_type": "execute_result"
    }
   ],
   "source": [
    "y_tr.unique()"
   ]
  },
  {
   "cell_type": "markdown",
   "metadata": {},
   "source": [
    "there is class imbalance:"
   ]
  },
  {
   "cell_type": "code",
   "execution_count": 20,
   "metadata": {},
   "outputs": [
    {
     "data": {
      "text/plain": [
       "0    0.89951\n",
       "1    0.10049\n",
       "Name: target, dtype: float64"
      ]
     },
     "execution_count": 20,
     "metadata": {},
     "output_type": "execute_result"
    }
   ],
   "source": [
    "y_tr.value_counts(normalize=True)"
   ]
  },
  {
   "cell_type": "markdown",
   "metadata": {},
   "source": [
    "#### explore predictors - variable set reduced to those with most importance"
   ]
  },
  {
   "cell_type": "markdown",
   "metadata": {},
   "source": [
    "type always float"
   ]
  },
  {
   "cell_type": "code",
   "execution_count": 30,
   "metadata": {},
   "outputs": [
    {
     "data": {
      "text/plain": [
       "(array([dtype('float64')], dtype=object),\n",
       " array([dtype('float64')], dtype=object))"
      ]
     },
     "execution_count": 30,
     "metadata": {},
     "output_type": "execute_result"
    }
   ],
   "source": [
    "X_tr.dtypes.unique(), X_te.dtypes.unique()"
   ]
  },
  {
   "cell_type": "markdown",
   "metadata": {},
   "source": [
    "no missing values"
   ]
  },
  {
   "cell_type": "code",
   "execution_count": 29,
   "metadata": {},
   "outputs": [
    {
     "data": {
      "text/plain": [
       "(False, False)"
      ]
     },
     "execution_count": 29,
     "metadata": {},
     "output_type": "execute_result"
    }
   ],
   "source": [
    "X_tr.isnull().any().any(), X_te.isnull().any().any()"
   ]
  },
  {
   "cell_type": "markdown",
   "metadata": {},
   "source": [
    "run random forest classifier to get feature importance"
   ]
  },
  {
   "cell_type": "code",
   "execution_count": 115,
   "metadata": {},
   "outputs": [],
   "source": [
    "from sklearn.ensemble import RandomForestClassifier"
   ]
  },
  {
   "cell_type": "code",
   "execution_count": 34,
   "metadata": {},
   "outputs": [],
   "source": [
    "clf = RandomForestClassifier(n_estimators=100, max_depth=2, random_state=0)"
   ]
  },
  {
   "cell_type": "code",
   "execution_count": 35,
   "metadata": {},
   "outputs": [
    {
     "data": {
      "text/plain": [
       "RandomForestClassifier(bootstrap=True, class_weight=None, criterion='gini',\n",
       "            max_depth=2, max_features='auto', max_leaf_nodes=None,\n",
       "            min_impurity_decrease=0.0, min_impurity_split=None,\n",
       "            min_samples_leaf=1, min_samples_split=2,\n",
       "            min_weight_fraction_leaf=0.0, n_estimators=100, n_jobs=None,\n",
       "            oob_score=False, random_state=0, verbose=0, warm_start=False)"
      ]
     },
     "execution_count": 35,
     "metadata": {},
     "output_type": "execute_result"
    }
   ],
   "source": [
    "clf.fit(X_tr, y_tr)"
   ]
  },
  {
   "cell_type": "markdown",
   "metadata": {},
   "source": [
    "select only important features"
   ]
  },
  {
   "cell_type": "code",
   "execution_count": 83,
   "metadata": {},
   "outputs": [],
   "source": [
    "feat_imp = clf.feature_importances_\n",
    "feat_imp = pd.DataFrame(feat_imp, columns=['imp'])\n",
    "feat_imp['name'] = X_tr.columns.tolist()\n",
    "feat_imp = feat_imp.sort_values('imp', ascending=False)"
   ]
  },
  {
   "cell_type": "code",
   "execution_count": 84,
   "metadata": {
    "scrolled": true
   },
   "outputs": [],
   "source": [
    "feat_sel_2 = feat_imp.query('imp>0')"
   ]
  },
  {
   "cell_type": "markdown",
   "metadata": {},
   "source": [
    "plot importance of features to find importance threshold "
   ]
  },
  {
   "cell_type": "code",
   "execution_count": 85,
   "metadata": {},
   "outputs": [
    {
     "data": {
      "text/plain": [
       "[<matplotlib.lines.Line2D at 0x1e697932978>]"
      ]
     },
     "execution_count": 85,
     "metadata": {},
     "output_type": "execute_result"
    },
    {
     "data": {
      "image/png": "[encoded data removed]",
      "text/plain": [
       "<Figure size 432x288 with 1 Axes>"
      ]
     },
     "metadata": {
      "needs_background": "light"
     },
     "output_type": "display_data"
    }
   ],
   "source": [
    "plt.xticks(np.arange(X_tr.shape[1]), feat_sel.feat_name.tolist(), rotation=90)\n",
    "plt.plot(feat_sel.feat_imp.tolist())"
   ]
  },
  {
   "cell_type": "markdown",
   "metadata": {},
   "source": [
    "select most important features"
   ]
  },
  {
   "cell_type": "code",
   "execution_count": 88,
   "metadata": {},
   "outputs": [],
   "source": [
    "feat_sel_1 = feat_imp.loc[feat_imp.index[:9]]\n",
    "feat_sel_1_names = feat_sel_1.name.tolist()"
   ]
  },
  {
   "cell_type": "markdown",
   "metadata": {},
   "source": [
    "descriptive statistics: no variables are centered or normalized"
   ]
  },
  {
   "cell_type": "code",
   "execution_count": 92,
   "metadata": {},
   "outputs": [
    {
     "data": {
      "text/html": [
       "<div>\n",
       "<style scoped>\n",
       "    .dataframe tbody tr th:only-of-type {\n",
       "        vertical-align: middle;\n",
       "    }\n",
       "\n",
       "    .dataframe tbody tr th {\n",
       "        vertical-align: top;\n",
       "    }\n",
       "\n",
       "    .dataframe thead th {\n",
       "        text-align: right;\n",
       "    }\n",
       "</style>\n",
       "<table border=\"1\" class=\"dataframe\">\n",
       "  <thead>\n",
       "    <tr style=\"text-align: right;\">\n",
       "      <th></th>\n",
       "      <th>var_139</th>\n",
       "      <th>var_12</th>\n",
       "      <th>var_174</th>\n",
       "      <th>var_81</th>\n",
       "      <th>var_26</th>\n",
       "      <th>var_166</th>\n",
       "      <th>var_53</th>\n",
       "      <th>var_109</th>\n",
       "      <th>var_80</th>\n",
       "    </tr>\n",
       "  </thead>\n",
       "  <tbody>\n",
       "    <tr>\n",
       "      <th>count</th>\n",
       "      <td>200000.000000</td>\n",
       "      <td>200000.000000</td>\n",
       "      <td>200000.000000</td>\n",
       "      <td>200000.000000</td>\n",
       "      <td>200000.000000</td>\n",
       "      <td>200000.000000</td>\n",
       "      <td>200000.000000</td>\n",
       "      <td>200000.000000</td>\n",
       "      <td>200000.000000</td>\n",
       "    </tr>\n",
       "    <tr>\n",
       "      <th>mean</th>\n",
       "      <td>7.760193</td>\n",
       "      <td>14.023978</td>\n",
       "      <td>20.210677</td>\n",
       "      <td>14.719024</td>\n",
       "      <td>-4.055133</td>\n",
       "      <td>2.963335</td>\n",
       "      <td>6.008569</td>\n",
       "      <td>18.458001</td>\n",
       "      <td>5.795044</td>\n",
       "    </tr>\n",
       "    <tr>\n",
       "      <th>std</th>\n",
       "      <td>7.686433</td>\n",
       "      <td>0.190059</td>\n",
       "      <td>7.136427</td>\n",
       "      <td>2.299567</td>\n",
       "      <td>5.922210</td>\n",
       "      <td>0.369684</td>\n",
       "      <td>0.764753</td>\n",
       "      <td>4.355031</td>\n",
       "      <td>7.436737</td>\n",
       "    </tr>\n",
       "    <tr>\n",
       "      <th>min</th>\n",
       "      <td>-21.274300</td>\n",
       "      <td>13.434600</td>\n",
       "      <td>-2.995300</td>\n",
       "      <td>7.586500</td>\n",
       "      <td>-24.243100</td>\n",
       "      <td>1.851200</td>\n",
       "      <td>3.344900</td>\n",
       "      <td>5.769700</td>\n",
       "      <td>-18.042200</td>\n",
       "    </tr>\n",
       "    <tr>\n",
       "      <th>25%</th>\n",
       "      <td>2.387575</td>\n",
       "      <td>13.894000</td>\n",
       "      <td>15.064600</td>\n",
       "      <td>13.214775</td>\n",
       "      <td>-8.321725</td>\n",
       "      <td>2.699000</td>\n",
       "      <td>5.435600</td>\n",
       "      <td>15.107175</td>\n",
       "      <td>0.694475</td>\n",
       "    </tr>\n",
       "    <tr>\n",
       "      <th>50%</th>\n",
       "      <td>8.066250</td>\n",
       "      <td>14.025500</td>\n",
       "      <td>20.206100</td>\n",
       "      <td>14.844500</td>\n",
       "      <td>-4.196900</td>\n",
       "      <td>2.960200</td>\n",
       "      <td>6.027800</td>\n",
       "      <td>18.281350</td>\n",
       "      <td>6.061750</td>\n",
       "    </tr>\n",
       "    <tr>\n",
       "      <th>75%</th>\n",
       "      <td>13.232525</td>\n",
       "      <td>14.164200</td>\n",
       "      <td>25.641225</td>\n",
       "      <td>16.340800</td>\n",
       "      <td>-0.090200</td>\n",
       "      <td>3.241500</td>\n",
       "      <td>6.542900</td>\n",
       "      <td>21.852900</td>\n",
       "      <td>11.449125</td>\n",
       "    </tr>\n",
       "    <tr>\n",
       "      <th>max</th>\n",
       "      <td>36.097100</td>\n",
       "      <td>14.654500</td>\n",
       "      <td>43.546800</td>\n",
       "      <td>23.132400</td>\n",
       "      <td>15.675100</td>\n",
       "      <td>4.220400</td>\n",
       "      <td>8.231500</td>\n",
       "      <td>32.059100</td>\n",
       "      <td>30.476900</td>\n",
       "    </tr>\n",
       "  </tbody>\n",
       "</table>\n",
       "</div>"
      ],
      "text/plain": [
       "             var_139         var_12        var_174         var_81  \\\n",
       "count  200000.000000  200000.000000  200000.000000  200000.000000   \n",
       "mean        7.760193      14.023978      20.210677      14.719024   \n",
       "std         7.686433       0.190059       7.136427       2.299567   \n",
       "min       -21.274300      13.434600      -2.995300       7.586500   \n",
       "25%         2.387575      13.894000      15.064600      13.214775   \n",
       "50%         8.066250      14.025500      20.206100      14.844500   \n",
       "75%        13.232525      14.164200      25.641225      16.340800   \n",
       "max        36.097100      14.654500      43.546800      23.132400   \n",
       "\n",
       "              var_26        var_166         var_53        var_109  \\\n",
       "count  200000.000000  200000.000000  200000.000000  200000.000000   \n",
       "mean       -4.055133       2.963335       6.008569      18.458001   \n",
       "std         5.922210       0.369684       0.764753       4.355031   \n",
       "min       -24.243100       1.851200       3.344900       5.769700   \n",
       "25%        -8.321725       2.699000       5.435600      15.107175   \n",
       "50%        -4.196900       2.960200       6.027800      18.281350   \n",
       "75%        -0.090200       3.241500       6.542900      21.852900   \n",
       "max        15.675100       4.220400       8.231500      32.059100   \n",
       "\n",
       "              var_80  \n",
       "count  200000.000000  \n",
       "mean        5.795044  \n",
       "std         7.436737  \n",
       "min       -18.042200  \n",
       "25%         0.694475  \n",
       "50%         6.061750  \n",
       "75%        11.449125  \n",
       "max        30.476900  "
      ]
     },
     "execution_count": 92,
     "metadata": {},
     "output_type": "execute_result"
    }
   ],
   "source": [
    "X_tr.loc[:,feat_sel_1_names].describe()"
   ]
  },
  {
   "cell_type": "markdown",
   "metadata": {},
   "source": [
    "check distribution vs. test set using statistics"
   ]
  },
  {
   "cell_type": "code",
   "execution_count": 95,
   "metadata": {},
   "outputs": [
    {
     "data": {
      "text/html": [
       "<div>\n",
       "<style scoped>\n",
       "    .dataframe tbody tr th:only-of-type {\n",
       "        vertical-align: middle;\n",
       "    }\n",
       "\n",
       "    .dataframe tbody tr th {\n",
       "        vertical-align: top;\n",
       "    }\n",
       "\n",
       "    .dataframe thead th {\n",
       "        text-align: right;\n",
       "    }\n",
       "</style>\n",
       "<table border=\"1\" class=\"dataframe\">\n",
       "  <thead>\n",
       "    <tr style=\"text-align: right;\">\n",
       "      <th></th>\n",
       "      <th>var_139</th>\n",
       "      <th>var_12</th>\n",
       "      <th>var_174</th>\n",
       "      <th>var_81</th>\n",
       "      <th>var_26</th>\n",
       "      <th>var_166</th>\n",
       "      <th>var_53</th>\n",
       "      <th>var_109</th>\n",
       "      <th>var_80</th>\n",
       "    </tr>\n",
       "  </thead>\n",
       "  <tbody>\n",
       "    <tr>\n",
       "      <th>count</th>\n",
       "      <td>0.000000</td>\n",
       "      <td>0.000000</td>\n",
       "      <td>0.000000</td>\n",
       "      <td>0.000000</td>\n",
       "      <td>0.000000</td>\n",
       "      <td>0.000000</td>\n",
       "      <td>0.000000</td>\n",
       "      <td>0.000000</td>\n",
       "      <td>0.000000</td>\n",
       "    </tr>\n",
       "    <tr>\n",
       "      <th>mean</th>\n",
       "      <td>0.005694</td>\n",
       "      <td>-0.001316</td>\n",
       "      <td>0.053458</td>\n",
       "      <td>0.010907</td>\n",
       "      <td>0.071412</td>\n",
       "      <td>-0.000514</td>\n",
       "      <td>0.006787</td>\n",
       "      <td>-0.002544</td>\n",
       "      <td>0.020038</td>\n",
       "    </tr>\n",
       "    <tr>\n",
       "      <th>std</th>\n",
       "      <td>-0.002482</td>\n",
       "      <td>0.000011</td>\n",
       "      <td>0.005389</td>\n",
       "      <td>-0.004515</td>\n",
       "      <td>0.023644</td>\n",
       "      <td>0.000984</td>\n",
       "      <td>-0.000371</td>\n",
       "      <td>0.013616</td>\n",
       "      <td>-0.009217</td>\n",
       "    </tr>\n",
       "    <tr>\n",
       "      <th>min</th>\n",
       "      <td>0.000000</td>\n",
       "      <td>-0.010100</td>\n",
       "      <td>0.509900</td>\n",
       "      <td>0.618200</td>\n",
       "      <td>-0.293000</td>\n",
       "      <td>-0.038100</td>\n",
       "      <td>0.066500</td>\n",
       "      <td>-0.691500</td>\n",
       "      <td>1.337700</td>\n",
       "    </tr>\n",
       "    <tr>\n",
       "      <th>25%</th>\n",
       "      <td>0.051425</td>\n",
       "      <td>-0.003000</td>\n",
       "      <td>0.061900</td>\n",
       "      <td>0.007325</td>\n",
       "      <td>0.056225</td>\n",
       "      <td>-0.002500</td>\n",
       "      <td>0.008300</td>\n",
       "      <td>-0.022375</td>\n",
       "      <td>0.026800</td>\n",
       "    </tr>\n",
       "    <tr>\n",
       "      <th>50%</th>\n",
       "      <td>-0.030350</td>\n",
       "      <td>-0.000900</td>\n",
       "      <td>0.081100</td>\n",
       "      <td>0.020700</td>\n",
       "      <td>0.071100</td>\n",
       "      <td>0.000900</td>\n",
       "      <td>0.008700</td>\n",
       "      <td>-0.000750</td>\n",
       "      <td>-0.014900</td>\n",
       "    </tr>\n",
       "    <tr>\n",
       "      <th>75%</th>\n",
       "      <td>0.014000</td>\n",
       "      <td>-0.001300</td>\n",
       "      <td>0.078775</td>\n",
       "      <td>-0.006500</td>\n",
       "      <td>0.089500</td>\n",
       "      <td>0.000100</td>\n",
       "      <td>0.004025</td>\n",
       "      <td>0.008800</td>\n",
       "      <td>-0.016250</td>\n",
       "    </tr>\n",
       "    <tr>\n",
       "      <th>max</th>\n",
       "      <td>1.633300</td>\n",
       "      <td>0.027500</td>\n",
       "      <td>-0.788600</td>\n",
       "      <td>0.304900</td>\n",
       "      <td>-2.218700</td>\n",
       "      <td>-0.004200</td>\n",
       "      <td>-0.147600</td>\n",
       "      <td>0.114300</td>\n",
       "      <td>-2.296200</td>\n",
       "    </tr>\n",
       "  </tbody>\n",
       "</table>\n",
       "</div>"
      ],
      "text/plain": [
       "        var_139    var_12   var_174    var_81    var_26   var_166    var_53  \\\n",
       "count  0.000000  0.000000  0.000000  0.000000  0.000000  0.000000  0.000000   \n",
       "mean   0.005694 -0.001316  0.053458  0.010907  0.071412 -0.000514  0.006787   \n",
       "std   -0.002482  0.000011  0.005389 -0.004515  0.023644  0.000984 -0.000371   \n",
       "min    0.000000 -0.010100  0.509900  0.618200 -0.293000 -0.038100  0.066500   \n",
       "25%    0.051425 -0.003000  0.061900  0.007325  0.056225 -0.002500  0.008300   \n",
       "50%   -0.030350 -0.000900  0.081100  0.020700  0.071100  0.000900  0.008700   \n",
       "75%    0.014000 -0.001300  0.078775 -0.006500  0.089500  0.000100  0.004025   \n",
       "max    1.633300  0.027500 -0.788600  0.304900 -2.218700 -0.004200 -0.147600   \n",
       "\n",
       "        var_109    var_80  \n",
       "count  0.000000  0.000000  \n",
       "mean  -0.002544  0.020038  \n",
       "std    0.013616 -0.009217  \n",
       "min   -0.691500  1.337700  \n",
       "25%   -0.022375  0.026800  \n",
       "50%   -0.000750 -0.014900  \n",
       "75%    0.008800 -0.016250  \n",
       "max    0.114300 -2.296200  "
      ]
     },
     "execution_count": 95,
     "metadata": {},
     "output_type": "execute_result"
    }
   ],
   "source": [
    "X_te.loc[:,feat_sel_1_names].describe()-X_tr.loc[:,feat_sel_1_names].describe()"
   ]
  },
  {
   "cell_type": "markdown",
   "metadata": {},
   "source": [
    "check for recurring values: ['var_12', 'var_53', 'var_166'] are interesting"
   ]
  },
  {
   "cell_type": "code",
   "execution_count": 109,
   "metadata": {
    "scrolled": true
   },
   "outputs": [
    {
     "name": "stdout",
     "output_type": "stream",
     "text": [
      "10.7498    8\n",
      "2.9769     8\n",
      "9.3837     8\n",
      "10.4777    8\n",
      "10.8027    8\n",
      "6.8278     8\n",
      "10.0698    8\n",
      "9.0266     7\n",
      "10.1157    7\n",
      "7.3828     7\n",
      "Name: var_139, dtype: int64\n",
      "13.5545    203\n",
      "13.5547    159\n",
      "13.5546    150\n",
      "13.5542    150\n",
      "13.5544    148\n",
      "13.5543    147\n",
      "13.5548    122\n",
      "13.5549    120\n",
      "13.5550    107\n",
      "13.5540    102\n",
      "Name: var_12, dtype: int64\n",
      "20.0748    8\n",
      "24.8502    8\n",
      "22.4484    8\n",
      "24.7084    7\n",
      "21.8905    7\n",
      "21.2149    7\n",
      "23.1602    7\n",
      "18.6328    7\n",
      "14.3687    7\n",
      "26.8842    7\n",
      "Name: var_174, dtype: int64\n",
      "15.6210    14\n",
      "15.8789    13\n",
      "14.1672    13\n",
      "15.0039    13\n",
      "13.5828    13\n",
      "15.9831    13\n",
      "16.2902    13\n",
      "14.2303    12\n",
      "15.7141    12\n",
      "15.0453    12\n",
      "Name: var_81, dtype: int64\n",
      " 0.7814     9\n",
      "-6.9358     8\n",
      "-8.3158     8\n",
      "-9.7403     8\n",
      "-1.1735     8\n",
      "-7.9918     8\n",
      "-14.2851    8\n",
      "-5.0997     8\n",
      "-8.7815     8\n",
      "-6.2418     8\n",
      "Name: var_26, dtype: int64\n",
      "2.7306    39\n",
      "3.1320    38\n",
      "2.6926    38\n",
      "2.8478    38\n",
      "2.8379    36\n",
      "2.6523    36\n",
      "2.8233    36\n",
      "2.8320    34\n",
      "2.8070    34\n",
      "2.9625    34\n",
      "Name: var_166, dtype: int64\n",
      "6.4543    25\n",
      "6.4571    23\n",
      "6.3297    23\n",
      "6.5062    23\n",
      "6.0496    22\n",
      "6.0934    22\n",
      "6.3260    22\n",
      "5.8402    21\n",
      "6.3324    21\n",
      "6.8609    21\n",
      "Name: var_53, dtype: int64\n",
      "14.7532    11\n",
      "16.8233    10\n",
      "16.2597    10\n",
      "21.5750    10\n",
      "20.5991    10\n",
      "20.7511    10\n",
      "15.8801     9\n",
      "14.8224     9\n",
      "17.5361     9\n",
      "17.4912     9\n",
      "Name: var_109, dtype: int64\n",
      "6.7846     8\n",
      "2.0695     8\n",
      "6.5553     8\n",
      "0.5574     7\n",
      "7.7561     7\n",
      "11.4150    7\n",
      "4.5792     7\n",
      "7.7136     7\n",
      "11.3012    7\n",
      "3.0333     7\n",
      "Name: var_80, dtype: int64\n"
     ]
    }
   ],
   "source": [
    "for f in feat_sel_1_names:\n",
    "    print(X_tr.loc[:,f].value_counts().head(10))"
   ]
  },
  {
   "cell_type": "code",
   "execution_count": 151,
   "metadata": {},
   "outputs": [
    {
     "data": {
      "image/png": "[encoded data removed]",
      "text/plain": [
       "<Figure size 432x288 with 1 Axes>"
      ]
     },
     "metadata": {
      "needs_background": "light"
     },
     "output_type": "display_data"
    },
    {
     "data": {
      "image/png": "[encoded data removed]",
      "text/plain": [
       "<Figure size 432x288 with 1 Axes>"
      ]
     },
     "metadata": {
      "needs_background": "light"
     },
     "output_type": "display_data"
    },
    {
     "data": {
      "image/png": "[encoded data removed]",
      "text/plain": [
       "<Figure size 432x288 with 1 Axes>"
      ]
     },
     "metadata": {
      "needs_background": "light"
     },
     "output_type": "display_data"
    },
    {
     "data": {
      "image/png": "[encoded data removed]",
      "text/plain": [
       "<Figure size 432x288 with 1 Axes>"
      ]
     },
     "metadata": {
      "needs_background": "light"
     },
     "output_type": "display_data"
    },
    {
     "data": {
      "image/png": "[encoded data removed]",
      "text/plain": [
       "<Figure size 432x288 with 1 Axes>"
      ]
     },
     "metadata": {
      "needs_background": "light"
     },
     "output_type": "display_data"
    },
    {
     "data": {
      "image/png": "[encoded data removed]",
      "text/plain": [
       "<Figure size 432x288 with 1 Axes>"
      ]
     },
     "metadata": {
      "needs_background": "light"
     },
     "output_type": "display_data"
    },
    {
     "data": {
      "image/png": "[encoded data removed]",
      "text/plain": [
       "<Figure size 432x288 with 1 Axes>"
      ]
     },
     "metadata": {
      "needs_background": "light"
     },
     "output_type": "display_data"
    },
    {
     "data": {
      "image/png": "[encoded data removed]",
      "text/plain": [
       "<Figure size 432x288 with 1 Axes>"
      ]
     },
     "metadata": {
      "needs_background": "light"
     },
     "output_type": "display_data"
    },
    {
     "data": {
      "image/png": "[encoded data removed]",
      "text/plain": [
       "<Figure size 432x288 with 1 Axes>"
      ]
     },
     "metadata": {
      "needs_background": "light"
     },
     "output_type": "display_data"
    }
   ],
   "source": [
    "bins = int(360/5)\n",
    "for f in feat_sel_1_names[:]:\n",
    "    \n",
    "    x = X_tr.loc[:,f].values\n",
    "    plt.figure()\n",
    "    \n",
    "    # matplotlib histogram\n",
    "    #plt.hist(x, color='blue', edgecolor='black', bins=bins)\n",
    "    \n",
    "    # seaborn histogram\n",
    "    sns.distplot(x, hist=True, kde=False, bins=bins, color='blue', hist_kws={'edgecolor':'black'}, kde_kws={'linewidth':4})\n",
    "    \n",
    "    # Add labels\n",
    "    #plt.title('Histogram')\n",
    "    plt.xlabel(f)\n",
    "    \n",
    "    plt.plot()"
   ]
  },
  {
   "cell_type": "code",
   "execution_count": null,
   "metadata": {},
   "outputs": [],
   "source": []
  },
  {
   "cell_type": "code",
   "execution_count": null,
   "metadata": {},
   "outputs": [],
   "source": []
  },
  {
   "cell_type": "code",
   "execution_count": null,
   "metadata": {},
   "outputs": [],
   "source": []
  },
  {
   "cell_type": "code",
   "execution_count": null,
   "metadata": {},
   "outputs": [],
   "source": []
  },
  {
   "cell_type": "code",
   "execution_count": null,
   "metadata": {},
   "outputs": [],
   "source": []
  },
  {
   "cell_type": "code",
   "execution_count": null,
   "metadata": {},
   "outputs": [],
   "source": []
  },
  {
   "cell_type": "code",
   "execution_count": null,
   "metadata": {},
   "outputs": [],
   "source": []
  },
  {
   "cell_type": "code",
   "execution_count": null,
   "metadata": {},
   "outputs": [],
   "source": []
  },
  {
   "cell_type": "code",
   "execution_count": null,
   "metadata": {},
   "outputs": [],
   "source": []
  },
  {
   "cell_type": "code",
   "execution_count": null,
   "metadata": {},
   "outputs": [],
   "source": [
    "# seaborn histogram\n",
    "sns.distplot(flights['arr_delay'], hist=True, kde=False, \n",
    "             bins=int(180/5), color = 'blue',\n",
    "             hist_kws={'edgecolor':'black'})\n"
   ]
  }
 ],
 "metadata": {
  "kernelspec": {
   "display_name": "Python 3",
   "language": "python",
   "name": "python3"
  },
  "language_info": {
   "codemirror_mode": {
    "name": "ipython",
    "version": 3
   },
   "file_extension": ".py",
   "mimetype": "text/x-python",
   "name": "python",
   "nbconvert_exporter": "python",
   "pygments_lexer": "ipython3",
   "version": "3.6.6"
  }
 },
 "nbformat": 4,
 "nbformat_minor": 2
}
